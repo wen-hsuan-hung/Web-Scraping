{
 "cells": [
  {
   "cell_type": "markdown",
   "metadata": {
    "id": "LM9PkNbgevjN"
   },
   "source": [
    "# Group: Wen-Hsuan Hung, Hongyuan Zhang"
   ]
  },
  {
   "cell_type": "markdown",
   "metadata": {},
   "source": [
    "## Assignment 1 Part B (35 marks)"
   ]
  },
  {
   "cell_type": "markdown",
   "metadata": {
    "id": "5w1d3e-5evjU"
   },
   "source": [
    "## In this assignment your task is to write a program that obtains the reviews for a specific hotel from Booking.com where the reviews to be obtained are found on the hotel's page listed under 'See what guests loved the most'. The input to this program should be the complete URL for the page of the hotel you want to obtain reviews for. "
   ]
  },
  {
   "cell_type": "markdown",
   "metadata": {
    "id": "dRuxFXA8NOUA"
   },
   "source": [
    "# You are NOT allowed to use any parser (e.g., Beautiful Soup) and no NumPy or Pandas."
   ]
  },
  {
   "cell_type": "markdown",
   "metadata": {
    "id": "dY_RZ26RevjW"
   },
   "source": [
    "#### The input url for the Shore Cliff hotel in California, is as follows:  "
   ]
  },
  {
   "cell_type": "code",
   "execution_count": 13,
   "metadata": {
    "id": "647E59srevjY"
   },
   "outputs": [],
   "source": [
    "booking_hotel_url= \"https://www.booking.com/hotel/us/shore-cliff.html\""
   ]
  },
  {
   "cell_type": "markdown",
   "metadata": {
    "id": "jyeKzK6mevjZ"
   },
   "source": [
    "#### Your program should take the booking_hotel_url variable and obtain all the reviews for the Shore Cliff hotel. Next, make sure that you change the booking_hotel_url variable, and obtain the reviews for another hotel of your choice as well."
   ]
  },
  {
   "cell_type": "markdown",
   "metadata": {
    "id": "0X32eGxtevjb"
   },
   "source": [
    "#### Your program should output two CSV files with three columns.  In the first column is the hotel name, in the second column is the reviewers' name, and in the third column is the review text. The first CSV file would include the reviews for the Shore Cliff hotel and the second CSV file would include the reviews for the other hotel of your choice.  "
   ]
  },
  {
   "cell_type": "markdown",
   "metadata": {
    "id": "xuWbMSrywBHg"
   },
   "source": [
    "**Don't forget to submit your output files to Canvas as well!**"
   ]
  },
  {
   "cell_type": "code",
   "execution_count": 14,
   "metadata": {},
   "outputs": [],
   "source": [
    "import requests\n",
    "import random \n",
    "from collections import OrderedDict\n",
    "import csv\n",
    "\n",
    "headers_list = [\n",
    "    # Firefox 77 Mac\n",
    "    {\n",
    "    \"User-Agent\": \"Mozilla/5.0 (Macintosh; Intel Mac OS X 10.15; rv:77.0) Gecko/20100101 Firefox/77.0\",\n",
    "    \"Accept\": \"text/html,application/xhtml+xml,application/xml;q=0.9,image/webp,*/*;q=0.8\",\n",
    "    \"Accept-Language\": \"en-US,en;q=0.5\",\n",
    "    \"Referer\": \"https://www.google.com/\",\n",
    "    \"DNT\": \"1\",\n",
    "    \"Connection\": \"keep-alive\",\n",
    "    \"Upgrade-Insecure-Requests\": \"1\"\n",
    "    },\n",
    "    # Firefox 77 Windows\n",
    "    {\n",
    "    \"User-Agent\": \"Mozilla/5.0 (Windows NT 10.0; Win64; x64; rv:77.0) Gecko/20100101 Firefox/77.0\",\n",
    "    \"Accept\": \"text/html,application/xhtml+xml,application/xml;q=0.9,image/webp,*/*;q=0.8\",\n",
    "    \"Accept-Language\": \"en-US,en;q=0.5\",\n",
    "    \"Accept-Encoding\": \"gzip, deflate, br\",\n",
    "    \"Referer\": \"https://www.google.com/\",\n",
    "    \"DNT\": \"1\",\n",
    "    \"Connection\": \"keep-alive\",\n",
    "    \"Upgrade-Insecure-Requests\": \"1\"\n",
    "    },\n",
    "    # Chrome 83 Mac\n",
    "    {\n",
    "    \"Connection\": \"keep-alive\",\n",
    "    \"DNT\": \"1\",\n",
    "    \"Upgrade-Insecure-Requests\": \"1\",\n",
    "    \"User-Agent\": \"Mozilla/5.0 (Macintosh; Intel Mac OS X 10_15_5) AppleWebKit/537.36 (KHTML, like Gecko) Chrome/83.0.4103.97 Safari/537.36\",\n",
    "    \"Accept\": \"text/html,application/xhtml+xml,application/xml;q=0.9,image/webp,image/apng,*/*;q=0.8,application/signed-exchange;v=b3;q=0.9\",\n",
    "    \"Sec-Fetch-Site\": \"none\",\n",
    "    \"Sec-Fetch-Mode\": \"navigate\",\n",
    "    \"Sec-Fetch-Dest\": \"document\",\n",
    "    \"Referer\": \"https://www.google.com/\",\n",
    "    \"Accept-Encoding\": \"gzip, deflate, br\",\n",
    "    \"Accept-Language\": \"en-GB,en-US;q=0.9,en;q=0.8\"\n",
    "    },\n",
    "    # Chrome 83 Windows \n",
    "    {\n",
    "    \"Connection\": \"keep-alive\",\n",
    "    \"Upgrade-Insecure-Requests\": \"1\",\n",
    "    \"User-Agent\": \"Mozilla/5.0 (Windows NT 10.0; Win64; x64) AppleWebKit/537.36 (KHTML, like Gecko) Chrome/83.0.4103.97 Safari/537.36\",\n",
    "    \"Accept\": \"text/html,application/xhtml+xml,application/xml;q=0.9,image/webp,image/apng,*/*;q=0.8,application/signed-exchange;v=b3;q=0.9\",\n",
    "    \"Sec-Fetch-Site\": \"same-origin\",\n",
    "    \"Sec-Fetch-Mode\": \"navigate\",\n",
    "    \"Sec-Fetch-User\": \"?1\",\n",
    "    \"Sec-Fetch-Dest\": \"document\",\n",
    "    \"Referer\": \"https://www.google.com/\",\n",
    "    \"Accept-Encoding\": \"gzip, deflate, br\",\n",
    "    \"Accept-Language\": \"en-US,en;q=0.9\"\n",
    "    }\n",
    "]\n",
    "\n",
    "\n",
    "ordered_headers_list = []\n",
    "\n",
    "for headers in headers_list:\n",
    "    h = OrderedDict()\n",
    "\n",
    "for header,value in headers.items():\n",
    "    h[header]=value\n",
    "\n",
    "ordered_headers_list.append(h)\n",
    "\n",
    "headers = random.choice(headers_list)\n",
    "r = requests.Session()\n",
    "r.headers = headers"
   ]
  },
  {
   "cell_type": "code",
   "execution_count": null,
   "metadata": {},
   "outputs": [],
   "source": []
  },
  {
   "cell_type": "markdown",
   "metadata": {},
   "source": [
    "### First Hotel"
   ]
  },
  {
   "cell_type": "code",
   "execution_count": 15,
   "metadata": {},
   "outputs": [],
   "source": [
    "#get the index\n",
    "booking_hotel_url = \"https://www.booking.com/hotel/us/shore-cliff.html\"\n",
    "html_1 = r.get(booking_hotel_url).text\n",
    "html_1_copy = html_1"
   ]
  },
  {
   "cell_type": "code",
   "execution_count": 16,
   "metadata": {},
   "outputs": [
    {
     "data": {
      "text/plain": [
       "['Jennifer',\n",
       " 'Emily',\n",
       " 'Dana',\n",
       " 'Michael',\n",
       " 'Lisa',\n",
       " 'Sharifa',\n",
       " 'Felita',\n",
       " 'Rhea',\n",
       " 'Marco',\n",
       " 'Jeff']"
      ]
     },
     "execution_count": 16,
     "metadata": {},
     "output_type": "execute_result"
    }
   ],
   "source": [
    "name_1 = []\n",
    "start_ident_n = '<span class=\\\"bui-avatar-block__title\\\">'\n",
    "\n",
    "while html_1.find(start_ident_n) != -1:\n",
    "    start_n = html_1.find(start_ident_n)\n",
    "    remainder_n = html_1[start_n:]\n",
    "    end_n = remainder_n.find(\"</span>\")\n",
    "    name_1.append(remainder_n[len(start_ident_n):end_n])  #get the name\n",
    "    html_1 = remainder_n[end_n:]\n",
    "\n",
    "final_name_1 = name_1[0:10]\n",
    "final_name_1"
   ]
  },
  {
   "cell_type": "code",
   "execution_count": 17,
   "metadata": {},
   "outputs": [
    {
     "name": "stdout",
     "output_type": "stream",
     "text": [
      "['The location was beautiful.  The views and the grounds were very pretty.  There were many nice plants well placed, for a lush garden surrounding the property.  I appreciated the informative signs about the various birds in the coastal area.  The breakfast was very generous.  We enjoyed the pool and the hot tub.  I loved the fact that every room has a view.  ', 'I loved the views,and I liked that you could get to the beach  easy, loved the breakfast ', 'This location is perfect. The hotel is older but we’ll kept. The staff gi s out of their way to accommodate requests. Very clean.', 'The clean room, the 270 view, the sound of the Ocean! We drove into Pismo (1 mile) for dinner...excellent!\\nTheir breakfast was excellent with HOT tamales (get the chicken!) and a ton of goodies! Yum!', 'Beautiful location and nice ocean view room. It did seem a bit on the high side.', 'The view from our room and easy access to the beach. ', 'Very nice location.... view was breathtaking!  It was so relaxing just sitting out in their garden or near the pool area - sea breeze, wave sounds.... ', 'The views were amazing! Very clean hotel! Very pleasant customer service! Breakfast was good! Everything was enjoyable!! :)', 'Amazing views and great pool&#47;spa! Room was very comfortable and sleeping hearing the ocean waves is very relaxing. The hundreds of pelicans and seagulls were also very relaxing to look at!', 'It was nice property with good size rooms staff were very accommodating. ']\n"
     ]
    }
   ],
   "source": [
    "#find the review\n",
    "review_1 = []\n",
    "start_ident_r = 'span class=\\\"c-review__body\\\"'\n",
    "\n",
    "while html_1_copy.find(start_ident_r) != -1:\n",
    "    start_r = html_1_copy.find(start_ident_r)\n",
    "    remainder_r = html_1_copy[start_r:]\n",
    "    end_r = remainder_r.find(\"</span>\")\n",
    "# #     print(end_r)\n",
    "    review_1.append(remainder_r[len(start_ident_r)+33:end_r-7])  #get the name\n",
    "    html_1_copy = remainder_r[end_r:]\n",
    "\n",
    "print(review_1)\n",
    "\n"
   ]
  },
  {
   "cell_type": "code",
   "execution_count": 18,
   "metadata": {},
   "outputs": [],
   "source": [
    "#making csv\n",
    "hotel_1 = 'Shore Cliff Hotel//'*len(final_name_1)\n",
    "hotel_1_list = hotel_1.split('//')\n",
    "hotel_1_list.remove('')\n",
    "hotel_1_list\n",
    "\n",
    "\n",
    "with open('hotel_1.csv', 'w', newline='') as csvfile:\n",
    "    writer = csv.writer(csvfile)\n",
    "    writer.writerow(['hotel_name', \"reviewers' name\", 'review'])\n",
    "    writer.writerows(zip(hotel_1_list, final_name_1, review_1))"
   ]
  },
  {
   "cell_type": "code",
   "execution_count": null,
   "metadata": {},
   "outputs": [],
   "source": []
  },
  {
   "cell_type": "code",
   "execution_count": null,
   "metadata": {},
   "outputs": [],
   "source": []
  },
  {
   "cell_type": "markdown",
   "metadata": {},
   "source": [
    "### Second Hotel"
   ]
  },
  {
   "cell_type": "code",
   "execution_count": 19,
   "metadata": {},
   "outputs": [],
   "source": [
    "\n",
    "\n",
    "#get the index\n",
    "html = r.get('https://www.booking.com/hotel/us/hyatt-regency-la-jolla.html?label=gen173nr-1DCAso7AFCC3Nob3JlLWNsaWZmSDNYBGiJAogBAZgBMLgBB8gBDNgBA-gBAYgCAagCA7gCr8XRiAbAAgHSAiRhMzZlNmEwMS1hMGU4LTQ1YmMtYmFlZi0xMjk3ODFjNGFlYWbYAgTgAgE;sid=bb7f0fe81bd7302016b377a851ba68bd;dest_id=4600;dest_type=district;dist=0;group_adults=2;group_children=0;hapos=3;hpos=3;no_rooms=1;room1=A%2CA;sb_price_type=total;sr_order=popularity;srepoch=1628726069;srpvid=2b4ca81ac63300ad;type=total;ucfs=1&#hotelTmpl').text\n",
    "html_copy = html"
   ]
  },
  {
   "cell_type": "code",
   "execution_count": 20,
   "metadata": {},
   "outputs": [
    {
     "name": "stdout",
     "output_type": "stream",
     "text": [
      "['Akiko', 'Idelburg', 'Roi', 'Brittany', 'Moseley', 'Sasha', 'Lindzie', 'Marti', 'Dina', 'Marjorie', 'Akiko', 'Idelburg', 'Roi', 'Brittany', 'Moseley', 'Sasha', 'Lindzie', 'Marti', 'Dina', 'Marjorie']\n"
     ]
    },
    {
     "data": {
      "text/plain": [
       "['Akiko',\n",
       " 'Idelburg',\n",
       " 'Roi',\n",
       " 'Brittany',\n",
       " 'Moseley',\n",
       " 'Sasha',\n",
       " 'Lindzie',\n",
       " 'Marti',\n",
       " 'Dina',\n",
       " 'Marjorie']"
      ]
     },
     "execution_count": 20,
     "metadata": {},
     "output_type": "execute_result"
    }
   ],
   "source": [
    "name = []\n",
    "start_ident_n = '<span class=\\\"bui-avatar-block__title\\\">'\n",
    "\n",
    "while html.find(start_ident_n) != -1:\n",
    "    start_n = html.find(start_ident_n)\n",
    "    remainder_n = html[start_n:]\n",
    "    end_n = remainder_n.find(\"</span>\")\n",
    "    name.append(remainder_n[len(start_ident_n):end_n])  #get the name\n",
    "    html = remainder_n[end_n:]\n",
    "\n",
    "\n",
    "print(name)\n",
    "final_name = name[0:10]\n",
    "final_name"
   ]
  },
  {
   "cell_type": "code",
   "execution_count": 21,
   "metadata": {},
   "outputs": [
    {
     "name": "stdout",
     "output_type": "stream",
     "text": [
      "['Swimming pool had a rap swim lane all day.\\rThere was fire pits and we enjoyed s’mores.', 'Everything was Simply wonderful! Staff was great, Rooms were clean accompanied by a fresh fragrance. Pool was huge with plenty of towels at your disposal. Valet parking was a little two pricey, I suggest parking on the street it&#39;s free. ', 'Spacious rooms. 25m swimming pool very good for laps swimming. Very comfortable fitness center. Everything worked for us. ', 'The fireplace area was beautiful and we loved doing smores out by the pool!', 'We liked the view, the comfort, the amenities and all the staff was very friendly:):)  Especially Sean and Vava at the front desk were extra accomodating.  The valet team was wonderful too and so was the bell boy!', 'The hotel was family friendly and easily accessible to the 5.', 'Bathroom and fridge in every room. Big beautiful windows. ', 'The location was located close to the I 5 for coming and going to various places.\\rThe pool was nice and satisfactorily warm.  BUT they allow more than just guests to come during the day so weekends were busy with kids.', 'The hotel was beautiful and clean.  We have never been to La Jolla and loved the area!', 'Gorgeous hotel, lobby area, restaurant, pool area nice and open. Great family opportunities and pool was large enough for lap swimming. Rooms were modern and spacious.']\n"
     ]
    }
   ],
   "source": [
    "#find the review\n",
    "review = []\n",
    "start_ident_r = 'span class=\\\"c-review__body\\\"'\n",
    "\n",
    "while html_copy.find(start_ident_r) != -1:\n",
    "    start_r = html_copy.find(start_ident_r)\n",
    "    remainder_r = html_copy[start_r:]\n",
    "    end_r = remainder_r.find(\"</span>\")\n",
    "# #     print(end_r)\n",
    "    review.append(remainder_r[len(start_ident_r)+33:end_r-7])  #get the name\n",
    "    html_copy = remainder_r[end_r:]\n",
    "\n",
    "print(review)\n",
    "\n"
   ]
  },
  {
   "cell_type": "code",
   "execution_count": 22,
   "metadata": {},
   "outputs": [],
   "source": [
    "#making csv\n",
    "hotel_2 = 'Hyatt Regency La Jolla at Aventine//'*len(final_name)\n",
    "hotel_2_list = hotel_2.split('//')\n",
    "hotel_2_list.remove('')\n",
    "\n",
    "\n",
    "with open('hotel_2.csv', 'w', newline='') as csvfile:\n",
    "    writer = csv.writer(csvfile)\n",
    "    writer.writerow(['hotel_name', \"reviewers' name\", 'review'])\n",
    "    writer.writerows(zip(hotel_2_list, final_name, review))"
   ]
  },
  {
   "cell_type": "code",
   "execution_count": null,
   "metadata": {},
   "outputs": [],
   "source": [
    "\n"
   ]
  },
  {
   "cell_type": "code",
   "execution_count": null,
   "metadata": {},
   "outputs": [],
   "source": []
  }
 ],
 "metadata": {
  "colab": {
   "collapsed_sections": [],
   "name": "Assignment_1_Part_B.ipynb",
   "provenance": []
  },
  "kernelspec": {
   "display_name": "Python 3",
   "language": "python",
   "name": "python3"
  },
  "language_info": {
   "codemirror_mode": {
    "name": "ipython",
    "version": 3
   },
   "file_extension": ".py",
   "mimetype": "text/x-python",
   "name": "python",
   "nbconvert_exporter": "python",
   "pygments_lexer": "ipython3",
   "version": "3.8.8"
  }
 },
 "nbformat": 4,
 "nbformat_minor": 1
}
