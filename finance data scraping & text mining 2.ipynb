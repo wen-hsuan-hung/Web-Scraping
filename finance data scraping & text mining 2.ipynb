{
 "cells": [
  {
   "cell_type": "markdown",
   "metadata": {
    "deletable": true,
    "editable": true,
    "id": "X5lifSC1aCZ5"
   },
   "source": [
    "# Assignment 2 Part A - Getting the data on 10 K filings in a dataframe (65 marks)"
   ]
  },
  {
   "cell_type": "markdown",
   "metadata": {},
   "source": [
    "# Group: Wen-Hsuan Hung, Hongyuan Zhang\n"
   ]
  },
  {
   "cell_type": "markdown",
   "metadata": {
    "deletable": true,
    "editable": true,
    "id": "ESpL4c40aCaF"
   },
   "source": [
    "#### In this part of the assignment you are provided a list of mutual funds and the companies that were dropped from their portfolios.  We want to obtain the 10-K filings for these companies.  In the file (Dropped_Companies.csv), there is a column called \"Name of Stock\".  Load the file, extract a list of all the companies in that column, then find the 10-K links for all these companies.  Feel free to utilize Beautiful Soup and Pandas."
   ]
  },
  {
   "cell_type": "markdown",
   "metadata": {
    "deletable": true,
    "editable": true,
    "id": "J56E8UgcaCaG"
   },
   "source": [
    "#### First, start with the importing of the relevant libraries:"
   ]
  },
  {
   "cell_type": "code",
   "execution_count": 20,
   "metadata": {
    "deletable": true,
    "editable": true,
    "id": "myER9K39aCaG"
   },
   "outputs": [],
   "source": [
    "import pandas as pd\n",
    "import urllib"
   ]
  },
  {
   "cell_type": "markdown",
   "metadata": {
    "deletable": true,
    "editable": true,
    "id": "Rtws_Y1iaCaH"
   },
   "source": [
    "#### You will be populating the following lists:"
   ]
  },
  {
   "cell_type": "code",
   "execution_count": 21,
   "metadata": {
    "deletable": true,
    "editable": true,
    "id": "aarf8hD_aCaH"
   },
   "outputs": [],
   "source": [
    "weblink = []\n",
    "filing_type = []\n",
    "company_name = []\n",
    "date = []"
   ]
  },
  {
   "cell_type": "markdown",
   "metadata": {
    "deletable": true,
    "editable": true,
    "id": "78dOcFQQaCaI"
   },
   "source": [
    "#### Upload the Dropped_Companies.csv file."
   ]
  },
  {
   "cell_type": "code",
   "execution_count": 22,
   "metadata": {
    "deletable": true,
    "editable": true,
    "id": "2jxTa9GEaCaI"
   },
   "outputs": [],
   "source": [
    "df = pd.read_csv('Dropped_Companies.csv')"
   ]
  },
  {
   "cell_type": "markdown",
   "metadata": {
    "deletable": true,
    "editable": true,
    "id": "kRodLKFUaCaJ"
   },
   "source": [
    "#### The information on 10-K, 10-K/A, 10-K 405 of a company is in the the following link:\n",
    "\n",
    "##### 'https://www.sec.gov/cgi-bin/browse-edgar?action=getcompany&company=' + Company+Name (a space between the two companies is replaced by a '+') + '&type=10-K&dateb=&owner=exclude&count=100'"
   ]
  },
  {
   "cell_type": "markdown",
   "metadata": {
    "deletable": true,
    "editable": true,
    "id": "PS1F0IYfaCaJ"
   },
   "source": [
    "#### So, your task will be to collect information on Company Name, Date of Filing, Filing Type and Link to the 'Document' of the filing type for each of the companies in the final dropped list."
   ]
  },
  {
   "cell_type": "markdown",
   "metadata": {
    "deletable": true,
    "editable": true,
    "id": "os1YYgLxaCaL"
   },
   "source": [
    "#### Hint: Make sure to collect all the filing links in every companies page. Number of filings available for each company varies, so make sure you take care of that."
   ]
  },
  {
   "cell_type": "markdown",
   "metadata": {
    "id": "cB4kH4rsnilx"
   },
   "source": [
    "---"
   ]
  },
  {
   "cell_type": "code",
   "execution_count": 23,
   "metadata": {
    "id": "9CqJWc_4nQde"
   },
   "outputs": [],
   "source": [
    "import requests\n",
    "import random\n",
    "\n",
    "headers_list = [\n",
    "    # Firefox 77 Mac\n",
    "    {\n",
    "    \"User-Agent\": \"Mozilla/5.0 (Macintosh; Intel Mac OS X 10.15; rv:77.0) Gecko/20100101 Firefox/77.0\",\n",
    "    \"Accept\": \"text/html,application/xhtml+xml,application/xml;q=0.9,image/webp,*/*;q=0.8\",\n",
    "    \"Accept-Language\": \"en-US,en;q=0.5\",\n",
    "    \"Referer\": \"https://www.google.com/\",\n",
    "    \"DNT\": \"1\",\n",
    "    \"Connection\": \"keep-alive\",\n",
    "    \"Upgrade-Insecure-Requests\": \"1\"\n",
    "    },\n",
    "    # Firefox 77 Windows\n",
    "    {\n",
    "    \"User-Agent\": \"Mozilla/5.0 (Windows NT 10.0; Win64; x64; rv:77.0) Gecko/20100101 Firefox/77.0\",\n",
    "    \"Accept\": \"text/html,application/xhtml+xml,application/xml;q=0.9,image/webp,*/*;q=0.8\",\n",
    "    \"Accept-Language\": \"en-US,en;q=0.5\",\n",
    "    \"Accept-Encoding\": \"gzip, deflate, br\",\n",
    "    \"Referer\": \"https://www.google.com/\",\n",
    "    \"DNT\": \"1\",\n",
    "    \"Connection\": \"keep-alive\",\n",
    "    \"Upgrade-Insecure-Requests\": \"1\"\n",
    "    },\n",
    "    # Chrome 83 Mac\n",
    "    {\n",
    "    \"Connection\": \"keep-alive\",\n",
    "    \"DNT\": \"1\",\n",
    "    \"Upgrade-Insecure-Requests\": \"1\",\n",
    "    \"User-Agent\": \"Mozilla/5.0 (Macintosh; Intel Mac OS X 10_15_5) AppleWebKit/537.36 (KHTML, like Gecko) Chrome/83.0.4103.97 Safari/537.36\",\n",
    "    \"Accept\": \"text/html,application/xhtml+xml,application/xml;q=0.9,image/webp,image/apng,*/*;q=0.8,application/signed-exchange;v=b3;q=0.9\",\n",
    "    \"Sec-Fetch-Site\": \"none\",\n",
    "    \"Sec-Fetch-Mode\": \"navigate\",\n",
    "    \"Sec-Fetch-Dest\": \"document\",\n",
    "    \"Referer\": \"https://www.google.com/\",\n",
    "    \"Accept-Encoding\": \"gzip, deflate, br\",\n",
    "    \"Accept-Language\": \"en-GB,en-US;q=0.9,en;q=0.8\"\n",
    "    },\n",
    "    # Chrome 83 Windows \n",
    "    {\n",
    "    \"Connection\": \"keep-alive\",\n",
    "    \"Upgrade-Insecure-Requests\": \"1\",\n",
    "    \"User-Agent\": \"Mozilla/5.0 (Windows NT 10.0; Win64; x64) AppleWebKit/537.36 (KHTML, like Gecko) Chrome/83.0.4103.97 Safari/537.36\",\n",
    "    \"Accept\": \"text/html,application/xhtml+xml,application/xml;q=0.9,image/webp,image/apng,*/*;q=0.8,application/signed-exchange;v=b3;q=0.9\",\n",
    "    \"Sec-Fetch-Site\": \"same-origin\",\n",
    "    \"Sec-Fetch-Mode\": \"navigate\",\n",
    "    \"Sec-Fetch-User\": \"?1\",\n",
    "    \"Sec-Fetch-Dest\": \"document\",\n",
    "    \"Referer\": \"https://www.google.com/\",\n",
    "    \"Accept-Encoding\": \"gzip, deflate, br\",\n",
    "    \"Accept-Language\": \"en-US,en;q=0.9\"\n",
    "    }\n",
    "]"
   ]
  },
  {
   "cell_type": "markdown",
   "metadata": {
    "id": "DjCf8WTSDXSt"
   },
   "source": [
    "Hint: If you wish to obtain the HTML content for a particular URL, you can use the following code:\n",
    "\n",
    "```\n",
    "    headers = random.choice(headers_list)\n",
    "    r = requests.Session()\n",
    "    r.headers = headers\n",
    "    html = r.get(url).text\n",
    "```\n",
    "\n"
   ]
  },
  {
   "cell_type": "code",
   "execution_count": 24,
   "metadata": {},
   "outputs": [],
   "source": [
    "import bs4 as bs\n",
    "import time"
   ]
  },
  {
   "cell_type": "code",
   "execution_count": 25,
   "metadata": {},
   "outputs": [
    {
     "name": "stdout",
     "output_type": "stream",
     "text": [
      "https://www.sec.gov/cgi-bin/browse-edgar?action=getcompany&company=CORRECTIONS+CORP&type=10-K&dateb=&owner=exclude&count=100\n",
      "https://www.sec.gov/cgi-bin/browse-edgar?action=getcompany&company=ENDO+PHARMACEUTICALS&type=10-K&dateb=&owner=exclude&count=100\n"
     ]
    },
    {
     "ename": "KeyboardInterrupt",
     "evalue": "",
     "output_type": "error",
     "traceback": [
      "\u001b[1;31m---------------------------------------------------------------------------\u001b[0m",
      "\u001b[1;31mKeyboardInterrupt\u001b[0m                         Traceback (most recent call last)",
      "\u001b[1;32m<ipython-input-25-2fbb2c10747a>\u001b[0m in \u001b[0;36m<module>\u001b[1;34m\u001b[0m\n\u001b[0;32m     46\u001b[0m \u001b[1;33m\u001b[0m\u001b[0m\n\u001b[0;32m     47\u001b[0m     \u001b[0mnumber\u001b[0m \u001b[1;33m+=\u001b[0m \u001b[1;36m1\u001b[0m\u001b[1;33m\u001b[0m\u001b[1;33m\u001b[0m\u001b[0m\n\u001b[1;32m---> 48\u001b[1;33m     \u001b[0mtime\u001b[0m\u001b[1;33m.\u001b[0m\u001b[0msleep\u001b[0m\u001b[1;33m(\u001b[0m\u001b[0mrandom\u001b[0m\u001b[1;33m.\u001b[0m\u001b[0muniform\u001b[0m\u001b[1;33m(\u001b[0m\u001b[1;36m2\u001b[0m\u001b[1;33m,\u001b[0m\u001b[1;36m7\u001b[0m\u001b[1;33m)\u001b[0m\u001b[1;33m)\u001b[0m\u001b[1;33m\u001b[0m\u001b[1;33m\u001b[0m\u001b[0m\n\u001b[0m\u001b[0;32m     49\u001b[0m \u001b[1;33m\u001b[0m\u001b[0m\n\u001b[0;32m     50\u001b[0m \u001b[1;33m\u001b[0m\u001b[0m\n",
      "\u001b[1;31mKeyboardInterrupt\u001b[0m: "
     ]
    }
   ],
   "source": [
    "weblink = []\n",
    "filing_type = []\n",
    "company_name = []\n",
    "date = []\n",
    "\n",
    "url = []\n",
    "for i in range(len(df)):\n",
    "    url.append('https://www.sec.gov/cgi-bin/browse-edgar?action=getcompany&company=' + df['Name of Stock'][i].replace(' ', '+') + '&type=10-K&dateb=&owner=exclude&count=100')\n",
    "\n",
    "number = 0\n",
    "lenrow = []\n",
    "\n",
    "for link in url:\n",
    "    headers = random.choice(headers_list)\n",
    "    r = requests.Session()\n",
    "    r.headers = headers\n",
    "    html = r.get(link).text   \n",
    "#     print(link)\n",
    "    \n",
    "    soup = bs.BeautifulSoup(html, 'html.parser') \n",
    "    infotable = soup.find_all(\"table\", summary = \"Results\")\n",
    "    \n",
    "    rows = infotable[0].find_all('tr')\n",
    "#     print(len(rows)-1)  \n",
    "    columns = rows[0].find_all('th')\n",
    "#     print(len(columns))\n",
    "    \n",
    "    if len(columns) == 5:\n",
    "        lenrow.append(len(rows)-1)\n",
    "        \n",
    "        for row in rows[1:]:\n",
    "#             print(row)\n",
    "            columns = row.find_all('td')\n",
    "            filing_type.append(columns[0].getText())\n",
    "            date.append(columns[3].getText())\n",
    "            company_name.append(df['Name of Stock'][number])\n",
    "            \n",
    "            start = html.find('a href=\\\"/Archives/edgar/data/')           \n",
    "            remaining = html[start:]\n",
    "            end = remaining.find('id=\\\"documentsbutton\\\"')\n",
    "            weblink.append(\"https://www.sec.gov\" + remaining[8:end-2])\n",
    "            html = remaining[end:]\n",
    "            \n",
    "    else:\n",
    "        print(link)\n",
    "            \n",
    "    number += 1               \n",
    "    time.sleep(random.uniform(2,7))\n",
    "            \n",
    "\n",
    "print(len(filing_type))\n",
    "print(len(date))\n",
    "print(len(company_name))\n",
    "print(len(weblink))"
   ]
  },
  {
   "cell_type": "code",
   "execution_count": 26,
   "metadata": {},
   "outputs": [
    {
     "name": "stdout",
     "output_type": "stream",
     "text": [
      "[33, 22, 14, 28, 31, 20, 31, 18, 8, 27]\n",
      "232\n",
      "232\n",
      "232\n"
     ]
    }
   ],
   "source": [
    "print(lenrow)\n",
    "print(sum(lenrow))\n",
    "print(len(filing_type))\n",
    "print(len(weblink))"
   ]
  },
  {
   "cell_type": "markdown",
   "metadata": {
    "id": "_kpiR1WBENbK"
   },
   "source": [
    "---"
   ]
  },
  {
   "cell_type": "markdown",
   "metadata": {
    "deletable": true,
    "editable": true,
    "id": "VGb0_JPsaCaL"
   },
   "source": [
    "#### After populating the lists, you need to save the data in the following csv file, using what you have learned from the pandas lesson. Please make sure to submit your output file as well."
   ]
  },
  {
   "cell_type": "code",
   "execution_count": 27,
   "metadata": {},
   "outputs": [
    {
     "data": {
      "text/html": [
       "<div>\n",
       "<style scoped>\n",
       "    .dataframe tbody tr th:only-of-type {\n",
       "        vertical-align: middle;\n",
       "    }\n",
       "\n",
       "    .dataframe tbody tr th {\n",
       "        vertical-align: top;\n",
       "    }\n",
       "\n",
       "    .dataframe thead th {\n",
       "        text-align: right;\n",
       "    }\n",
       "</style>\n",
       "<table border=\"1\" class=\"dataframe\">\n",
       "  <thead>\n",
       "    <tr style=\"text-align: right;\">\n",
       "      <th></th>\n",
       "      <th>company_name</th>\n",
       "      <th>date</th>\n",
       "      <th>filing_type</th>\n",
       "      <th>weblink</th>\n",
       "    </tr>\n",
       "  </thead>\n",
       "  <tbody>\n",
       "    <tr>\n",
       "      <th>0</th>\n",
       "      <td>FMC CORP</td>\n",
       "      <td>2021-02-25</td>\n",
       "      <td>10-K</td>\n",
       "      <td>https://www.sec.gov/Archives/edgar/data/37785/...</td>\n",
       "    </tr>\n",
       "    <tr>\n",
       "      <th>1</th>\n",
       "      <td>FMC CORP</td>\n",
       "      <td>2020-02-28</td>\n",
       "      <td>10-K</td>\n",
       "      <td>https://www.sec.gov/Archives/edgar/data/37785/...</td>\n",
       "    </tr>\n",
       "    <tr>\n",
       "      <th>2</th>\n",
       "      <td>FMC CORP</td>\n",
       "      <td>2019-02-28</td>\n",
       "      <td>10-K</td>\n",
       "      <td>https://www.sec.gov/Archives/edgar/data/37785/...</td>\n",
       "    </tr>\n",
       "    <tr>\n",
       "      <th>3</th>\n",
       "      <td>FMC CORP</td>\n",
       "      <td>2018-02-28</td>\n",
       "      <td>10-K</td>\n",
       "      <td>https://www.sec.gov/Archives/edgar/data/37785/...</td>\n",
       "    </tr>\n",
       "    <tr>\n",
       "      <th>4</th>\n",
       "      <td>FMC CORP</td>\n",
       "      <td>2017-02-28</td>\n",
       "      <td>10-K</td>\n",
       "      <td>https://www.sec.gov/Archives/edgar/data/37785/...</td>\n",
       "    </tr>\n",
       "    <tr>\n",
       "      <th>...</th>\n",
       "      <td>...</td>\n",
       "      <td>...</td>\n",
       "      <td>...</td>\n",
       "      <td>...</td>\n",
       "    </tr>\n",
       "    <tr>\n",
       "      <th>227</th>\n",
       "      <td>PTC INC</td>\n",
       "      <td>1998-12-29</td>\n",
       "      <td>10-K405</td>\n",
       "      <td>https://www.sec.gov/Archives/edgar/data/857005...</td>\n",
       "    </tr>\n",
       "    <tr>\n",
       "      <th>228</th>\n",
       "      <td>PTC INC</td>\n",
       "      <td>1998-01-02</td>\n",
       "      <td>10-K405/A</td>\n",
       "      <td>https://www.sec.gov/Archives/edgar/data/857005...</td>\n",
       "    </tr>\n",
       "    <tr>\n",
       "      <th>229</th>\n",
       "      <td>PTC INC</td>\n",
       "      <td>1997-12-29</td>\n",
       "      <td>10-K405</td>\n",
       "      <td>https://www.sec.gov/Archives/edgar/data/857005...</td>\n",
       "    </tr>\n",
       "    <tr>\n",
       "      <th>230</th>\n",
       "      <td>PTC INC</td>\n",
       "      <td>1996-12-24</td>\n",
       "      <td>10-K</td>\n",
       "      <td>https://www.sec.gov/Archives/edgar/data/857005...</td>\n",
       "    </tr>\n",
       "    <tr>\n",
       "      <th>231</th>\n",
       "      <td>PTC INC</td>\n",
       "      <td>1995-12-28</td>\n",
       "      <td>10-K</td>\n",
       "      <td>https://www.sec.gov/Archives/edgar/data/857005...</td>\n",
       "    </tr>\n",
       "  </tbody>\n",
       "</table>\n",
       "<p>232 rows × 4 columns</p>\n",
       "</div>"
      ],
      "text/plain": [
       "    company_name        date filing_type  \\\n",
       "0       FMC CORP  2021-02-25        10-K   \n",
       "1       FMC CORP  2020-02-28        10-K   \n",
       "2       FMC CORP  2019-02-28        10-K   \n",
       "3       FMC CORP  2018-02-28        10-K   \n",
       "4       FMC CORP  2017-02-28        10-K   \n",
       "..           ...         ...         ...   \n",
       "227      PTC INC  1998-12-29     10-K405   \n",
       "228      PTC INC  1998-01-02   10-K405/A   \n",
       "229      PTC INC  1997-12-29     10-K405   \n",
       "230      PTC INC  1996-12-24        10-K   \n",
       "231      PTC INC  1995-12-28        10-K   \n",
       "\n",
       "                                               weblink  \n",
       "0    https://www.sec.gov/Archives/edgar/data/37785/...  \n",
       "1    https://www.sec.gov/Archives/edgar/data/37785/...  \n",
       "2    https://www.sec.gov/Archives/edgar/data/37785/...  \n",
       "3    https://www.sec.gov/Archives/edgar/data/37785/...  \n",
       "4    https://www.sec.gov/Archives/edgar/data/37785/...  \n",
       "..                                                 ...  \n",
       "227  https://www.sec.gov/Archives/edgar/data/857005...  \n",
       "228  https://www.sec.gov/Archives/edgar/data/857005...  \n",
       "229  https://www.sec.gov/Archives/edgar/data/857005...  \n",
       "230  https://www.sec.gov/Archives/edgar/data/857005...  \n",
       "231  https://www.sec.gov/Archives/edgar/data/857005...  \n",
       "\n",
       "[232 rows x 4 columns]"
      ]
     },
     "execution_count": 27,
     "metadata": {},
     "output_type": "execute_result"
    }
   ],
   "source": [
    "outputdf = pd.DataFrame(list(zip(company_name, date, filing_type, weblink)),\n",
    "               columns =['company_name', 'date', 'filing_type', 'weblink'])\n",
    "outputdf"
   ]
  },
  {
   "cell_type": "code",
   "execution_count": 19,
   "metadata": {},
   "outputs": [],
   "source": [
    "outputdf.to_csv('10K Links.csv', index = False)"
   ]
  },
  {
   "cell_type": "code",
   "execution_count": null,
   "metadata": {},
   "outputs": [],
   "source": []
  }
 ],
 "metadata": {
  "colab": {
   "collapsed_sections": [],
   "name": "Assignment_2_Part_A.ipynb",
   "provenance": []
  },
  "kernelspec": {
   "display_name": "Python 3",
   "language": "python",
   "name": "python3"
  },
  "language_info": {
   "codemirror_mode": {
    "name": "ipython",
    "version": 3
   },
   "file_extension": ".py",
   "mimetype": "text/x-python",
   "name": "python",
   "nbconvert_exporter": "python",
   "pygments_lexer": "ipython3",
   "version": "3.8.8"
  }
 },
 "nbformat": 4,
 "nbformat_minor": 4
}
